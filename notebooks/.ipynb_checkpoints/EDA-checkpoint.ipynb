{
 "cells": [
  {
   "cell_type": "markdown",
   "metadata": {},
   "source": [
    "# Exploratory Data Analysis\n",
    "The purpose of this exercise is to gain a qualitative understanding of the data, which will help define the specific problem to be solved and to establish whether there is a sufficiently clear signal in the data to allow learning to take place.\n",
    "\n",
    "# Data Description\n",
    "A fixture comprising a fisheye color camera, a thermal camera and a Jetson Nano was mounted on the ceiling of a chicken coop.\n",
    "\n",
    "On 6/13, a number of scenarios were run:\n",
    "1. Basic - nominal behavior\n",
    "2. Feeding time - a more active set of motions\n",
    "3. April tag - to help with color-thermal frame alignment\n",
    "4. Bread - a more active set of motions\n",
    "5. High FPS - to save space, the above runs were conducted at 5FPS, whereas this run was at 30FPS\n",
    "\n",
    "# Data Processing Pipeline\n",
    "1. tmuxp load launch.yaml # launch cameras, image compression and rosbag recording\n",
    "2. tmuxp load bag2jpg.yaml # save rosbag videos as images\n",
    "3. CLI from jpg2mp4.txt # convert images to .mp4"
   ]
  },
  {
   "cell_type": "code",
   "execution_count": 1,
   "metadata": {},
   "outputs": [],
   "source": [
    "import cv2 as cv\n",
    "import numpy as np\n",
    "# from matplotlib import pyplot as plt"
   ]
  },
  {
   "cell_type": "markdown",
   "metadata": {},
   "source": [
    "Load in the video and define the frame rate"
   ]
  },
  {
   "cell_type": "code",
   "execution_count": 2,
   "metadata": {},
   "outputs": [],
   "source": [
    "cap = cv.VideoCapture('/home/ed/Data/2020-06-13-14-00-00_test/bread/bread_t.mp4')\n",
    "fps = 5 # Hz\n",
    "speedup_factor = 0.5 # allows for quicker iteration\n",
    "therm_size = (80, 60)\n",
    "therm_magnif = 10\n",
    "blur_window = 3\n",
    "intensity_threshold = 150"
   ]
  },
  {
   "cell_type": "code",
   "execution_count": 3,
   "metadata": {},
   "outputs": [],
   "source": [
    "# cv.namedWindow('image', cv.WINDOW_NORMAL)\n",
    "# cv.resizeWindow('image', 800,600)\n",
    "\n",
    "# while(True):\n",
    "#     # Capture frame-by-frame\n",
    "#     ret, frame = cap.read()\n",
    "\n",
    "#     # Display the resulting frame\n",
    "#     if (frame is not None):\n",
    "#         cv.imshow('image',frame)\n",
    "#         cv.waitKey(int(1000/fps/speedup_factor))\n",
    "#     else: \n",
    "#         break\n",
    "\n",
    "# # When everything done, release the capture\n",
    "# cap.release()\n",
    "# cv.destroyAllWindows()"
   ]
  },
  {
   "cell_type": "markdown",
   "metadata": {},
   "source": [
    "The chickens appear very distinctly in the thermal spectrum. Let us attempt to determine their locations in the frame by first applying a Gaussian blur and simple intensity threshold."
   ]
  },
  {
   "cell_type": "code",
   "execution_count": 4,
   "metadata": {},
   "outputs": [],
   "source": [
    "# # Prepare windows\n",
    "# cv.namedWindow('therm_raw', cv.WINDOW_NORMAL)\n",
    "# cv.namedWindow('therm_thresh', cv.WINDOW_NORMAL)\n",
    "# cv.resizeWindow('therm_raw', therm_size[0] * therm_magnif,therm_size[1] * therm_magnif)\n",
    "# cv.resizeWindow('therm_thresh', therm_size[0] * therm_magnif,therm_size[1] * therm_magnif)\n",
    "# cv.moveWindow('therm_raw', 0, 0)\n",
    "# cv.moveWindow('therm_thresh', int(therm_size[0] * therm_magnif * 1.1), 0)\n",
    "\n",
    "# while(True):\n",
    "#     # Capture frame-by-frame\n",
    "#     ret, frame = cap.read()\n",
    "\n",
    "#     # Display the resulting frame\n",
    "#     if (frame is not None):\n",
    "#         frame = cv.cvtColor(frame, cv.COLOR_BGR2GRAY)\n",
    "#         frame = cv.blur(frame, (blur_window, blur_window))\n",
    "#         _, thresh = cv.threshold(frame, intensity_threshold, 255, cv.THRESH_BINARY)\n",
    "#         cv.imshow('therm_raw',frame)\n",
    "#         cv.imshow('therm_thresh',thresh)\n",
    "#         cv.waitKey(int(1000/fps/speedup_factor))\n",
    "#     else: \n",
    "#         break\n",
    "\n",
    "# # When everything done, release the capture\n",
    "# cap.release()\n",
    "# cv.destroyAllWindows()"
   ]
  },
  {
   "cell_type": "markdown",
   "metadata": {},
   "source": [
    "A few qualitative observations can be made after reviewing this footage:\n",
    "1. The thermal camera periodically undergoes a process known as [Flat Field Correction (FFC)](https://www.flir.com/support-center/oem/what-calibration-terms-are-applied-in-the-camera-there-is-the-ffc-and-also-the-gain-calibration.-are-there-others-can-i-do-my-own-calibration/). At arbitrary intervals, the shutter will move to cover the field of view provide a uniform surface for re-calibration if the camera's temperature fluctuates. After this event, the average pixel intensity across the whole frame increases. It may be possible to apply a low-pass filter over multiple frames to adaptively set the threshold.\n",
    "2. The chickens appear to be bisected when passing underneath the wooden beam in the middle of the frame. It may be possible to fit an ellipse of a fixed size to join the thresholded blobs as the chickens are all approximately the same size."
   ]
  },
  {
   "cell_type": "markdown",
   "metadata": {},
   "source": [
    "Now that we have a rudimentary segmentation, we can "
   ]
  },
  {
   "cell_type": "code",
   "execution_count": 5,
   "metadata": {},
   "outputs": [],
   "source": [
    "# Prepare windows\n",
    "cv.namedWindow('therm_raw', cv.WINDOW_NORMAL)\n",
    "cv.namedWindow('therm_thresh', cv.WINDOW_NORMAL)\n",
    "cv.resizeWindow('therm_raw', therm_size[0] * therm_magnif,therm_size[1] * therm_magnif)\n",
    "cv.resizeWindow('therm_thresh', therm_size[0] * therm_magnif,therm_size[1] * therm_magnif)\n",
    "cv.moveWindow('therm_raw', 0, 0)\n",
    "cv.moveWindow('therm_thresh', int(therm_size[0] * therm_magnif * 1.1), 0)\n",
    "\n",
    "while(True):\n",
    "    # Capture frame-by-frame\n",
    "    ret, frame = cap.read()\n",
    "\n",
    "    # Display the resulting frame\n",
    "    if (frame is not None):\n",
    "        frame = cv.cvtColor(frame, cv.COLOR_BGR2GRAY)\n",
    "        frame = cv.blur(frame, (blur_window, blur_window))\n",
    "        _, thresh = cv.threshold(frame, intensity_threshold, 255, cv.THRESH_BINARY)\n",
    "        contours = cv.findContours(thresh, cv.RETR_TREE, cv.CHAIN_APPROX_SIMPLE)[0]\n",
    "        frame = cv.cvtColor(frame, cv.COLOR_GRAY2BGR)\n",
    "\n",
    "        cv.drawContours(frame, contours, -1, (0, 255, 0), 1)\n",
    "        cv.imshow('therm_raw',frame)\n",
    "        cv.imshow('therm_thresh',thresh)\n",
    "        cv.waitKey(int(1000/fps/speedup_factor))\n",
    "    else: \n",
    "        break\n",
    "\n",
    "# When everything done, release the capture\n",
    "cap.release()\n",
    "cv.destroyAllWindows()"
   ]
  }
 ],
 "metadata": {
  "kernelspec": {
   "display_name": "Python 3",
   "language": "python",
   "name": "python3"
  },
  "language_info": {
   "codemirror_mode": {
    "name": "ipython",
    "version": 3
   },
   "file_extension": ".py",
   "mimetype": "text/x-python",
   "name": "python",
   "nbconvert_exporter": "python",
   "pygments_lexer": "ipython3",
   "version": "3.6.9"
  }
 },
 "nbformat": 4,
 "nbformat_minor": 4
}
