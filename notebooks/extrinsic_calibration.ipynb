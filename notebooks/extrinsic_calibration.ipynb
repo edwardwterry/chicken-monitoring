{
 "cells": [
  {
   "cell_type": "code",
   "execution_count": 181,
   "metadata": {},
   "outputs": [],
   "source": [
    "# Import packages and set up\n",
    "import numpy as np\n",
    "from matplotlib import pyplot as plt\n",
    "import rospy\n",
    "import cv2\n",
    "from cv_bridge import CvBridge\n",
    "from sensor_msgs.msg import CompressedImage, Image\n",
    "import pyrosbag as prb\n",
    "import jupyros as jr\n",
    "from cv_bridge.boost.cv_bridge_boost import getCvType\n",
    "import csv\n",
    "%matplotlib inline"
   ]
  },
  {
   "cell_type": "code",
   "execution_count": 2,
   "metadata": {},
   "outputs": [],
   "source": [
    "# ROS stuff (roscore needs to be running to proceed)\n",
    "rospy.init_node('extrinsic_calibration', anonymous=True)\n",
    "br = CvBridge()\n",
    "therm_pub = rospy.Publisher(\"thermal/camera/processed\", Image, queue_size=1)\n",
    "color_pub = rospy.Publisher(\"color/camera/processed\", Image, queue_size=1)"
   ]
  },
  {
   "cell_type": "code",
   "execution_count": 123,
   "metadata": {},
   "outputs": [],
   "source": [
    "# Input\n",
    "times = [1592951264, 1592951290, 1592951333]\n",
    "\n",
    "# Auxiliary\n",
    "therm_times_index = 0\n",
    "color_times_index = 0\n",
    "therm_frames = []\n",
    "color_frames = []\n",
    "therm_ready_to_record = False\n",
    "color_ready_to_record = False"
   ]
  },
  {
   "cell_type": "code",
   "execution_count": 124,
   "metadata": {},
   "outputs": [],
   "source": [
    "def record_frame(stamp, source):\n",
    "    global therm_times_index, color_times_index, therm_ready_to_record, color_ready_to_record\n",
    "    if source == 'therm':\n",
    "        if therm_times_index < len(times):\n",
    "            if stamp.secs > times[therm_times_index] and not therm_ready_to_record:\n",
    "                therm_times_index += 1\n",
    "                therm_ready_to_record = True\n",
    "                print('Therm at', stamp.secs)\n",
    "                return True\n",
    "    elif source == 'color':\n",
    "        if color_times_index < len(times):\n",
    "            if stamp.secs > times[color_times_index] and not color_ready_to_record:\n",
    "                color_times_index += 1\n",
    "                color_ready_to_record = False\n",
    "                print('Color at', stamp.secs)\n",
    "                return True\n",
    "    else:\n",
    "        return False"
   ]
  },
  {
   "cell_type": "code",
   "execution_count": 178,
   "metadata": {},
   "outputs": [],
   "source": [
    "blur_window = 3\n",
    "intensity_threshold = 140\n",
    "kernel = np.ones((3,3),np.uint8)\n",
    "\n",
    "def comp_to_cv2(msg):\n",
    "    return br.compressed_imgmsg_to_cv2(msg)\n",
    "\n",
    "def process_thermal(im):\n",
    "    '''\n",
    "    Returns image with calibration plate segmented out as a binary mask\n",
    "    '''\n",
    "#     im = br.compressed_imgmsg_to_cv2(msg)\n",
    "    im = cv2.cvtColor(im, cv2.COLOR_BGR2GRAY)\n",
    "    mean = cv2.mean(im)\n",
    "    im = cv2.blur(im, (blur_window, blur_window))\n",
    "    _, thresh = cv2.threshold(im, intensity_threshold, 255, cv2.THRESH_BINARY)\n",
    "    return thresh\n",
    "\n",
    "def process_color(im):\n",
    "    '''\n",
    "    Returns image with calibration plate segmented out as a binary mask\n",
    "    '''\n",
    "#     im = br.compressed_imgmsg_to_cv2(msg)\n",
    "#     im = cv2.cvtColor(im, cv2.COLOR_BGR2HSV)\n",
    "#     low = ((75,30,160)) #20/255.*180., 45\n",
    "#     high = ((130,128,255))    \n",
    "    low = ((75,30,160)) #20/255.*180., 45\n",
    "    high = ((130,128,255))        \n",
    "    im = cv2.inRange(im, low, high)\n",
    "    im = cv2.blur(im, (blur_window, blur_window))\n",
    "    \n",
    "    return im"
   ]
  },
  {
   "cell_type": "code",
   "execution_count": 126,
   "metadata": {},
   "outputs": [],
   "source": [
    "def therm_clbk(msg):\n",
    "    global therm_frames, therm_ready_to_record\n",
    "    processed_therm = comp_to_cv2(msg)\n",
    "    if record_frame(msg.header.stamp, 'therm'):\n",
    "        therm_frames.append(processed_therm)\n",
    "        therm_ready_to_record = False\n",
    "    \n",
    "def color_clbk(msg):\n",
    "    global color_frames, color_ready_to_record\n",
    "    processed_color = comp_to_cv2(msg)\n",
    "    if record_frame(msg.header.stamp, 'color'):\n",
    "        color_frames.append(processed_color)\n",
    "        color_ready_to_record = False"
   ]
  },
  {
   "cell_type": "code",
   "execution_count": 127,
   "metadata": {},
   "outputs": [
    {
     "name": "stderr",
     "output_type": "stream",
     "text": [
      "Removing previous callback, only one redirection possible right now\n",
      "Removing previous callback, only one redirection possible right now\n"
     ]
    },
    {
     "name": "stdout",
     "output_type": "stream",
     "text": [
      "Therm at 1592951265\n",
      "Therm at 1592951291\n",
      "Color at 1592951265\n",
      "Therm at 1592951334\n",
      "Color at 1592951322\n"
     ]
    }
   ],
   "source": [
    "jr.subscribe(\"thermal/camera/image_raw_throttle/compressed\", CompressedImage, therm_clbk)\n",
    "jr.subscribe(\"color/camera/image_raw_throttle/compressed\", CompressedImage, color_clbk)\n",
    "with prb.BagPlayer(\"/home/ed/Data/2020-06-23-15-27-00_test/2020-06-23-15-27-21_0.bag\") as example:\n",
    "    example.play(publish_rate_multiplier=50.0)\n",
    "    while example.is_running:\n",
    "        pass "
   ]
  },
  {
   "cell_type": "code",
   "execution_count": 180,
   "metadata": {},
   "outputs": [
    {
     "name": "stdout",
     "output_type": "stream",
     "text": [
      "3 2\n"
     ]
    },
    {
     "data": {
      "text/plain": [
       "<matplotlib.image.AxesImage at 0x7f34e4bdd8>"
      ]
     },
     "execution_count": 180,
     "metadata": {},
     "output_type": "execute_result"
    },
    {
     "data": {
      "image/png": "[encoded data removed]",
      "text/plain": [
       "<Figure size 432x288 with 1 Axes>"
      ]
     },
     "metadata": {
      "needs_background": "light"
     },
     "output_type": "display_data"
    },
    {
     "name": "stdout",
     "output_type": "stream",
     "text": [
      "Color at 1592951334\n"
     ]
    }
   ],
   "source": [
    "# plt.imshow(color_frames[0], cmap='gray')\n",
    "print(len(therm_frames), len(color_frames))\n",
    "plt.imshow(process_color(color_frames[0]), cmap='gray')\n"
   ]
  },
  {
   "cell_type": "code",
   "execution_count": 172,
   "metadata": {},
   "outputs": [],
   "source": [
    "# Binary mask --> contour --> corner points --> min area rect\n",
    "def get_corner_points(im):\n",
    "    '''\n",
    "    Input image is a binary mask\n",
    "    '''\n",
    "    contour = np.array(cv2.findContours(im, cv2.RETR_TREE, cv2.CHAIN_APPROX_SIMPLE)[0])\n",
    "#     assert len(contour) == 1\n",
    "    return cv2.minAreaRect(contour[0])"
   ]
  },
  {
   "cell_type": "code",
   "execution_count": 44,
   "metadata": {},
   "outputs": [
    {
     "ename": "AssertionError",
     "evalue": "",
     "output_type": "error",
     "traceback": [
      "\u001b[0;31m---------------------------------------------------------------------------\u001b[0m",
      "\u001b[0;31mAssertionError\u001b[0m                            Traceback (most recent call last)",
      "\u001b[0;32m<ipython-input-44-266f084cbca9>\u001b[0m in \u001b[0;36m<module>\u001b[0;34m\u001b[0m\n\u001b[1;32m      7\u001b[0m \u001b[0;32mfor\u001b[0m \u001b[0mi\u001b[0m \u001b[0;32min\u001b[0m \u001b[0mrange\u001b[0m\u001b[0;34m(\u001b[0m\u001b[0mlen\u001b[0m\u001b[0;34m(\u001b[0m\u001b[0mtimes\u001b[0m\u001b[0;34m)\u001b[0m\u001b[0;34m)\u001b[0m\u001b[0;34m:\u001b[0m\u001b[0;34m\u001b[0m\u001b[0;34m\u001b[0m\u001b[0m\n\u001b[1;32m      8\u001b[0m     \u001b[0mtherm_coords\u001b[0m\u001b[0;34m.\u001b[0m\u001b[0mappend\u001b[0m\u001b[0;34m(\u001b[0m\u001b[0mget_corner_points\u001b[0m\u001b[0;34m(\u001b[0m\u001b[0mtherm_frames\u001b[0m\u001b[0;34m[\u001b[0m\u001b[0mi\u001b[0m\u001b[0;34m]\u001b[0m\u001b[0;34m)\u001b[0m\u001b[0;34m)\u001b[0m\u001b[0;34m\u001b[0m\u001b[0;34m\u001b[0m\u001b[0m\n\u001b[0;32m----> 9\u001b[0;31m     \u001b[0mcolor_coords\u001b[0m\u001b[0;34m.\u001b[0m\u001b[0mappend\u001b[0m\u001b[0;34m(\u001b[0m\u001b[0mget_corner_points\u001b[0m\u001b[0;34m(\u001b[0m\u001b[0mcolor_frames\u001b[0m\u001b[0;34m[\u001b[0m\u001b[0mi\u001b[0m\u001b[0;34m]\u001b[0m\u001b[0;34m)\u001b[0m\u001b[0;34m)\u001b[0m\u001b[0;34m\u001b[0m\u001b[0;34m\u001b[0m\u001b[0m\n\u001b[0m",
      "\u001b[0;32m<ipython-input-43-df3e2817dbb2>\u001b[0m in \u001b[0;36mget_corner_points\u001b[0;34m(im)\u001b[0m\n\u001b[1;32m      5\u001b[0m     '''\n\u001b[1;32m      6\u001b[0m     \u001b[0mcontour\u001b[0m \u001b[0;34m=\u001b[0m \u001b[0mnp\u001b[0m\u001b[0;34m.\u001b[0m\u001b[0marray\u001b[0m\u001b[0;34m(\u001b[0m\u001b[0mcv2\u001b[0m\u001b[0;34m.\u001b[0m\u001b[0mfindContours\u001b[0m\u001b[0;34m(\u001b[0m\u001b[0mim\u001b[0m\u001b[0;34m,\u001b[0m \u001b[0mcv2\u001b[0m\u001b[0;34m.\u001b[0m\u001b[0mRETR_TREE\u001b[0m\u001b[0;34m,\u001b[0m \u001b[0mcv2\u001b[0m\u001b[0;34m.\u001b[0m\u001b[0mCHAIN_APPROX_SIMPLE\u001b[0m\u001b[0;34m)\u001b[0m\u001b[0;34m[\u001b[0m\u001b[0;36m0\u001b[0m\u001b[0;34m]\u001b[0m\u001b[0;34m)\u001b[0m\u001b[0;34m\u001b[0m\u001b[0;34m\u001b[0m\u001b[0m\n\u001b[0;32m----> 7\u001b[0;31m     \u001b[0;32massert\u001b[0m \u001b[0mlen\u001b[0m\u001b[0;34m(\u001b[0m\u001b[0mcontour\u001b[0m\u001b[0;34m)\u001b[0m \u001b[0;34m==\u001b[0m \u001b[0;36m1\u001b[0m\u001b[0;34m\u001b[0m\u001b[0;34m\u001b[0m\u001b[0m\n\u001b[0m\u001b[1;32m      8\u001b[0m     \u001b[0;32mreturn\u001b[0m \u001b[0mcv2\u001b[0m\u001b[0;34m.\u001b[0m\u001b[0mminAreaRect\u001b[0m\u001b[0;34m(\u001b[0m\u001b[0mcontour\u001b[0m\u001b[0;34m[\u001b[0m\u001b[0;36m0\u001b[0m\u001b[0;34m]\u001b[0m\u001b[0;34m)\u001b[0m\u001b[0;34m\u001b[0m\u001b[0;34m\u001b[0m\u001b[0m\n",
      "\u001b[0;31mAssertionError\u001b[0m: "
     ]
    }
   ],
   "source": [
    "# For each square configuration\n",
    "# extract the 4 corners of the square\n",
    "\n",
    "therm_coords = []\n",
    "color_coords = []\n",
    "\n",
    "for i in range(len(times)):\n",
    "    therm_coords.append(get_corner_points(therm_frames[i]))\n",
    "    color_coords.append(get_corner_points(color_frames[i]))"
   ]
  },
  {
   "cell_type": "code",
   "execution_count": 34,
   "metadata": {},
   "outputs": [
    {
     "data": {
      "text/plain": [
       "<matplotlib.image.AxesImage at 0x7f556c44a8>"
      ]
     },
     "execution_count": 34,
     "metadata": {},
     "output_type": "execute_result"
    },
    {
     "data": {
      "image/png": "[encoded data removed]",
      "text/plain": [
       "<Figure size 432x288 with 1 Axes>"
      ]
     },
     "metadata": {
      "needs_background": "light"
     },
     "output_type": "display_data"
    }
   ],
   "source": [
    "plt.imshow(therm_frames[2])"
   ]
  },
  {
   "cell_type": "code",
   "execution_count": 188,
   "metadata": {},
   "outputs": [],
   "source": [
    "# https://yangcha.github.io/iview/iview.html to pick indiv pixels\n",
    "therm_coords = []\n",
    "color_coords = []\n",
    "\n",
    "with open('/home/ed/Data/2020-06-23-15-27-00_test/color.csv', 'r') as f:\n",
    "    data = csv.reader(f)\n",
    "    for row in data:\n",
    "        color_coords.append([int(row[0]), int(row[1]), 1.0])\n",
    "        \n",
    "with open('/home/ed/Data/2020-06-23-15-27-00_test/therm.csv', 'r') as f:\n",
    "    data = csv.reader(f)\n",
    "    for row in data:\n",
    "        therm_coords.append([int(row[0]), int(row[1]), 1.0])     "
   ]
  },
  {
   "cell_type": "code",
   "execution_count": 189,
   "metadata": {},
   "outputs": [
    {
     "name": "stdout",
     "output_type": "stream",
     "text": [
      "(3, 12) (3, 12)\n"
     ]
    }
   ],
   "source": [
    "therm_coords = np.transpose(np.array(therm_coords))\n",
    "color_coords = np.transpose(np.array(color_coords))\n",
    "print (therm_coords.shape, color_coords.shape)"
   ]
  },
  {
   "cell_type": "code",
   "execution_count": 194,
   "metadata": {},
   "outputs": [
    {
     "name": "stdout",
     "output_type": "stream",
     "text": [
      "[[  0.066  -0.001 -29.8  ]\n",
      " [ -0.001   0.067  -1.357]\n",
      " [  0.      0.      1.   ]]\n",
      "[[ 15.268   0.147 455.167]\n",
      " [  0.267  14.969  28.269]\n",
      " [ -0.     -0.      1.   ]]\n"
     ]
    }
   ],
   "source": [
    "T_therm_color = np.dot(therm_coords,np.linalg.pinv(color_coords))\n",
    "T_color_therm = np.linalg.inv(T_therm_color)\n",
    "np.set_printoptions(precision=3, suppress=True)\n",
    "print (T_therm_color)\n",
    "print (T_color_therm)"
   ]
  }
 ],
 "metadata": {
  "kernelspec": {
   "display_name": "Python 3",
   "language": "python",
   "name": "python3"
  },
  "language_info": {
   "codemirror_mode": {
    "name": "ipython",
    "version": 3
   },
   "file_extension": ".py",
   "mimetype": "text/x-python",
   "name": "python",
   "nbconvert_exporter": "python",
   "pygments_lexer": "ipython3",
   "version": "3.6.9"
  }
 },
 "nbformat": 4,
 "nbformat_minor": 4
}
